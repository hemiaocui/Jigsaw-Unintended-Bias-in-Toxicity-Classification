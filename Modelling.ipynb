{
 "cells": [
  {
   "cell_type": "code",
   "execution_count": 1,
   "metadata": {},
   "outputs": [
    {
     "name": "stderr",
     "output_type": "stream",
     "text": [
      "Using TensorFlow backend.\n"
     ]
    }
   ],
   "source": [
    "import pandas as pd\n",
    "import numpy as np\n",
    "import operator\n",
    "import re\n",
    "import nltk\n",
    "from nltk.tokenize import word_tokenize\n",
    "import pickle\n",
    "import matplotlib.pyplot as pltpartial_y_test_cv\n",
    "from nltk.stem.porter import PorterStemmer\n",
    "from nltk.corpus import stopwords\n",
    "import seaborn as sns\n",
    "import time\n",
    "\n",
    "from sklearn.model_selection import KFold\n",
    "from sklearn.model_selection import train_test_split\n",
    "from sklearn.preprocessing import StandardScaler\n",
    "from sklearn.feature_extraction.text import TfidfVectorizer\n",
    "import lightgbm as lgb\n",
    "from sklearn.model_selection import GridSearchCV\n",
    "from sklearn.metrics import auc\n",
    "\n",
    "from keras.models import Model\n",
    "from keras.models import Sequential\n",
    "from keras.layers import Conv1D,MaxPooling1D\n",
    "\n",
    "from keras.layers import Input, Dense, Flatten,Embedding, SpatialDropout1D, Dropout, add, concatenate,SimpleRNN, LSTM\n",
    "from keras.layers import CuDNNLSTM, Bidirectional, GlobalMaxPooling1D, GlobalAveragePooling1D,BatchNormalization\n",
    "from keras.optimizers import Adam\n",
    "from keras.preprocessing import text, sequence\n",
    "from keras.preprocessing.text import Tokenizer\n",
    "from keras.preprocessing.sequence import pad_sequences\n",
    "\n",
    "from sklearn.metrics import roc_auc_score\n",
    "from sklearn.metrics import precision_recall_curve\n",
    "from sklearn import metrics\n",
    "from sklearn.externals import joblib"
   ]
  },
  {
   "cell_type": "markdown",
   "metadata": {},
   "source": [
    "## Part I Data preparation"
   ]
  },
  {
   "cell_type": "markdown",
   "metadata": {},
   "source": [
    "### Step 1.Cleaning"
   ]
  },
  {
   "cell_type": "code",
   "execution_count": 2,
   "metadata": {},
   "outputs": [],
   "source": [
    "tr = pd.read_csv('train_treated.csv')\n",
    "te = pd.read_csv('test_treated.csv')"
   ]
  },
  {
   "cell_type": "code",
   "execution_count": 3,
   "metadata": {},
   "outputs": [],
   "source": [
    "with open('glove.pickle', 'rb') as handle:\n",
    "     saved_glove=pickle.load(handle)"
   ]
  },
  {
   "cell_type": "code",
   "execution_count": 4,
   "metadata": {},
   "outputs": [],
   "source": [
    "with open('meta_embed.pickle', 'rb') as handle:\n",
    "     saved_meta=pickle.load(handle)"
   ]
  },
  {
   "cell_type": "code",
   "execution_count": 5,
   "metadata": {},
   "outputs": [],
   "source": [
    "x_tr=tr['treated_comment']\n",
    "x_te=te['treated_comment']\n",
    "y_tr = np.where(tr['target'] >= 0.5, 1, 0).astype(int) \n",
    "\n",
    "y_identity=tr[[\n",
    "    'male', 'female', 'homosexual_gay_or_lesbian', 'christian', 'jewish',\n",
    "    'muslim', 'black', 'white', 'psychiatric_or_mental_illness']]"
   ]
  },
  {
   "cell_type": "code",
   "execution_count": 6,
   "metadata": {
    "scrolled": true
   },
   "outputs": [],
   "source": [
    "y_identity=y_identity.fillna(0)\n",
    "y_identity=np.where(y_identity >= 0.5, 1, 0).astype(int)"
   ]
  },
  {
   "cell_type": "code",
   "execution_count": 7,
   "metadata": {},
   "outputs": [],
   "source": [
    "x_tr_c=x_tr.map(lambda x: re.sub(r'\\W+', ' ',x))\n",
    "x_te_c=x_te.map(lambda x: re.sub(r'\\W+', ' ',x))"
   ]
  },
  {
   "cell_type": "markdown",
   "metadata": {},
   "source": [
    "### Step 2 Data Splitting"
   ]
  },
  {
   "cell_type": "code",
   "execution_count": null,
   "metadata": {},
   "outputs": [],
   "source": [
    "#consider the dataset is very large in this case, we will not consider cross validation at the beginning."
   ]
  },
  {
   "cell_type": "code",
   "execution_count": 8,
   "metadata": {},
   "outputs": [],
   "source": [
    "X_tr = pd.DataFrame(x_tr_c)\n",
    "Y_tr = pd.Series(y_tr)\n",
    "partial_x_train, x_val, partial_y_train, y_val = train_test_split(\n",
    "    X_tr,\n",
    "    Y_tr,\n",
    "    test_size=0.2,\n",
    "    random_state=1)"
   ]
  },
  {
   "cell_type": "code",
   "execution_count": 9,
   "metadata": {},
   "outputs": [],
   "source": [
    "train_indices=partial_x_train.index\n",
    "test_indices= x_val.index"
   ]
  },
  {
   "cell_type": "code",
   "execution_count": 10,
   "metadata": {},
   "outputs": [],
   "source": [
    "y_identity_te=y_identity[test_indices]"
   ]
  },
  {
   "cell_type": "markdown",
   "metadata": {},
   "source": [
    "## Part II Bag of word model"
   ]
  },
  {
   "cell_type": "code",
   "execution_count": null,
   "metadata": {},
   "outputs": [],
   "source": [
    "#before bag of word, stemmetize the text"
   ]
  },
  {
   "cell_type": "code",
   "execution_count": 11,
   "metadata": {},
   "outputs": [
    {
     "name": "stdout",
     "output_type": "stream",
     "text": [
      "[nltk_data] Downloading package stopwords to /home/ubuntu/nltk_data...\n",
      "[nltk_data]   Package stopwords is already up-to-date!\n",
      "[nltk_data] Downloading package punkt to /home/ubuntu/nltk_data...\n",
      "[nltk_data]   Package punkt is already up-to-date!\n"
     ]
    }
   ],
   "source": [
    "nltk.download('stopwords')\n",
    "nltk.download('punkt')\n",
    "stemmer = PorterStemmer().stem \n",
    "tokenize = nltk.word_tokenize \n",
    "def stem(tokens,stemmer= PorterStemmer().stem):\n",
    "    return [stemmer(w.lower()) for w in tokens] \n",
    "def lemmatize(text): \n",
    "    return stem(tokenize(text))\n",
    "def join(text): \n",
    "    return ' '.join(lemmatize(text))"
   ]
  },
  {
   "cell_type": "code",
   "execution_count": 12,
   "metadata": {},
   "outputs": [],
   "source": [
    "x_val_token=x_val.copy()\n",
    "x_val_token['treated_comment']=x_val_token['treated_comment'].map(lambda x: join (x))"
   ]
  },
  {
   "cell_type": "markdown",
   "metadata": {},
   "source": [
    "#### Be careful! Below code runs >15 min"
   ]
  },
  {
   "cell_type": "code",
   "execution_count": 13,
   "metadata": {},
   "outputs": [],
   "source": [
    "partial_x_train_token=partial_x_train.copy()\n",
    "partial_x_train_token['treated_comment']=partial_x_train_token['treated_comment'].map(lambda x: join (x))"
   ]
  },
  {
   "cell_type": "code",
   "execution_count": 14,
   "metadata": {},
   "outputs": [],
   "source": [
    "with open('partial_x_train_token.pickle', 'wb') as handle:\n",
    "    pickle.dump(partial_x_train_token, handle, protocol=pickle.HIGHEST_PROTOCOL)"
   ]
  },
  {
   "cell_type": "code",
   "execution_count": 15,
   "metadata": {},
   "outputs": [],
   "source": [
    "with open('x_val_token.pickle', 'wb') as handle:\n",
    "    pickle.dump(x_val_token, handle, protocol=pickle.HIGHEST_PROTOCOL)"
   ]
  },
  {
   "cell_type": "code",
   "execution_count": 17,
   "metadata": {},
   "outputs": [],
   "source": [
    "tf_vector = TfidfVectorizer()\n",
    "X_tr_tf= tf_vector.fit_transform(partial_x_train_token['treated_comment'].values)\n",
    "x_val_tf=tf_vector.transform(x_val_token['treated_comment'].values)"
   ]
  },
  {
   "cell_type": "markdown",
   "metadata": {},
   "source": [
    "#### Be careful! Below code runs >10 min"
   ]
  },
  {
   "cell_type": "code",
   "execution_count": 18,
   "metadata": {},
   "outputs": [
    {
     "data": {
      "text/plain": [
       "GridSearchCV(cv=2, error_score='raise-deprecating',\n",
       "       estimator=LGBMClassifier(boosting_type='gbdt', class_weight=None, colsample_bytree=1.0,\n",
       "        importance_type='split', learning_rate=0.1, max_depth=-1,\n",
       "        min_child_samples=20, min_child_weight=0.001, min_split_gain=0.0,\n",
       "        n_estimators=100, n_jobs=-1, num_leaves=31, objective=None,\n",
       "        random_state=None, reg_alpha=0.0, reg_lambda=0.0, silent=True,\n",
       "        subsample=1.0, subsample_for_bin=200000, subsample_freq=0),\n",
       "       fit_params=None, iid='warn', n_jobs=-1,\n",
       "       param_grid={'objective': ['binary'], 'n_estimators': [20, 40], 'num_leaves': [12, 64], 'boosting_type': ['gbdt']},\n",
       "       pre_dispatch='2*n_jobs', refit=True, return_train_score='warn',\n",
       "       scoring=None, verbose=0)"
      ]
     },
     "execution_count": 18,
     "metadata": {},
     "output_type": "execute_result"
    }
   ],
   "source": [
    "gridParams = {\n",
    "   'objective' : ['binary'],   \n",
    "    'n_estimators': [20,40],\n",
    "    'num_leaves': [12,64],\n",
    "    'boosting_type' : ['gbdt'],\n",
    "    }\n",
    "model_b = lgb.LGBMClassifier()\n",
    "lgb_grid = GridSearchCV(estimator = model_b, param_grid= gridParams,cv = 2, n_jobs = -1)\n",
    "lgb_grid.fit(X_tr_tf,partial_y_train)"
   ]
  },
  {
   "cell_type": "code",
   "execution_count": 19,
   "metadata": {},
   "outputs": [
    {
     "data": {
      "text/plain": [
       "LGBMClassifier(boosting_type='gbdt', class_weight=None, colsample_bytree=1.0,\n",
       "        importance_type='split', learning_rate=0.1, max_depth=-1,\n",
       "        min_child_samples=20, min_child_weight=0.001, min_split_gain=0.0,\n",
       "        n_estimators=40, n_jobs=-1, num_leaves=64, objective='binary',\n",
       "        random_state=None, reg_alpha=0.0, reg_lambda=0.0, silent=True,\n",
       "        subsample=1.0, subsample_for_bin=200000, subsample_freq=0)"
      ]
     },
     "execution_count": 19,
     "metadata": {},
     "output_type": "execute_result"
    }
   ],
   "source": [
    "model_b=lgb_grid.best_estimator_\n",
    "model_b"
   ]
  },
  {
   "cell_type": "code",
   "execution_count": 23,
   "metadata": {},
   "outputs": [
    {
     "data": {
      "text/plain": [
       "['model_b.pkl']"
      ]
     },
     "execution_count": 23,
     "metadata": {},
     "output_type": "execute_result"
    }
   ],
   "source": [
    "joblib.dump(model_b, 'model_b.pkl', compress = 1)"
   ]
  },
  {
   "cell_type": "code",
   "execution_count": 24,
   "metadata": {},
   "outputs": [],
   "source": [
    "model_b = joblib.load('model_b.pkl')"
   ]
  },
  {
   "cell_type": "code",
   "execution_count": 25,
   "metadata": {},
   "outputs": [],
   "source": [
    "model_b.fit(X_tr_tf,partial_y_train)\n",
    "y_pred_prob=model_b.predict_proba(x_val_tf)"
   ]
  },
  {
   "cell_type": "code",
   "execution_count": 28,
   "metadata": {},
   "outputs": [],
   "source": [
    "def roc_pr(y_pred_prob,y_val): \n",
    "    fpr_svc,tpr_svc,threshs=metrics.roc_curve(y_val,y_pred_prob,pos_label=1)\n",
    "    prec_svc,rec_svc,threshs=metrics.precision_recall_curve(y_val,y_pred_prob)\n",
    "    \n",
    "    plt.plot(fpr_svc,tpr_svc,label='lightGBM')\n",
    "    plt.xlabel('FPR')\n",
    "    plt.ylabel('TPR')\n",
    "    plt.legend()\n",
    "    plt.title(\"ROC curve\")\n",
    "    \n",
    "    plt.figure(figsize=(6,6))\n",
    "    plt.plot(rec_svc,prec_svc,label='lightGBM')\n",
    "    plt.xlabel('recall')\n",
    "    plt.ylabel('precision')\n",
    "    plt.legend()\n",
    "    plt.title(\"PR curve\")"
   ]
  },
  {
   "cell_type": "code",
   "execution_count": 29,
   "metadata": {},
   "outputs": [
    {
     "data": {
      "image/png": "[encoded data removed]",
      "text/plain": [
       "<Figure size 432x288 with 1 Axes>"
      ]
     },
     "metadata": {},
     "output_type": "display_data"
    },
    {
     "data": {
      "image/png": "[encoded data removed]",
      "text/plain": [
       "<Figure size 432x432 with 1 Axes>"
      ]
     },
     "metadata": {},
     "output_type": "display_data"
    }
   ],
   "source": [
    "roc_pr(y_pred_prob[:, 1],y_val)"
   ]
  },
  {
   "cell_type": "code",
   "execution_count": 267,
   "metadata": {},
   "outputs": [
    {
     "data": {
      "text/plain": [
       "0.9187727719717355"
      ]
     },
     "execution_count": 267,
     "metadata": {},
     "output_type": "execute_result"
    }
   ],
   "source": [
    "roc_auc_score(y_val,y_pred_prob[:, 1])"
   ]
  },
  {
   "cell_type": "markdown",
   "metadata": {},
   "source": [
    "## Part III CNN"
   ]
  },
  {
   "cell_type": "markdown",
   "metadata": {},
   "source": [
    "### Step1 Build embedding matrix"
   ]
  },
  {
   "cell_type": "code",
   "execution_count": null,
   "metadata": {},
   "outputs": [],
   "source": [
    "#It is suggested that stemmitization and tokenization may remove important features that are useful in deep learning models. Thus, for deep learning models, I will not use stemmized tokens."
   ]
  },
  {
   "cell_type": "code",
   "execution_count": 11,
   "metadata": {},
   "outputs": [],
   "source": [
    "def embed(train,test,embed_glove): \n",
    "    t = Tokenizer()\n",
    "    t.fit_on_texts(train)\n",
    "    vocab_size = len(t.word_index) + 1\n",
    "    \n",
    "    encoded_docs_tr = t.texts_to_sequences(train)\n",
    "    max_length = max([len(s.split()) for s in train])\n",
    "    padded_tr=pad_sequences(encoded_docs_tr, maxlen=max_length, padding='post')\n",
    "    \n",
    "    encoded_docs_te = t.texts_to_sequences(test)\n",
    "    padded_te=pad_sequences(encoded_docs_te, maxlen=max_length, padding='post')\n",
    "    \n",
    "    embedding_matrix = np.zeros((vocab_size, 300))\n",
    "    for word, i in t.word_index.items():\n",
    "        embedding_vector = embed_glove.get(word)\n",
    "        if embedding_vector is not None:\n",
    "            embedding_matrix[i] = embedding_vector\n",
    "    return padded_tr,padded_te, embedding_matrix,max_length"
   ]
  },
  {
   "cell_type": "markdown",
   "metadata": {},
   "source": [
    "#### Be careful! Below cell runs for >10 mins"
   ]
  },
  {
   "cell_type": "code",
   "execution_count": 12,
   "metadata": {},
   "outputs": [],
   "source": [
    "pad_tr,pad_te, embedding_matrix,max_length=embed(x_tr_c,x_te_c,saved_glove)"
   ]
  },
  {
   "cell_type": "code",
   "execution_count": 13,
   "metadata": {},
   "outputs": [],
   "source": [
    "pad_partial_x_tr=pad_tr[train_indices]\n",
    "pad_x_val=pad_tr[test_indices]"
   ]
  },
  {
   "cell_type": "markdown",
   "metadata": {},
   "source": [
    "### Step2 CNN model"
   ]
  },
  {
   "cell_type": "code",
   "execution_count": 265,
   "metadata": {},
   "outputs": [
    {
     "name": "stdout",
     "output_type": "stream",
     "text": [
      "_________________________________________________________________\n",
      "Layer (type)                 Output Shape              Param #   \n",
      "=================================================================\n",
      "embedding_4 (Embedding)      (None, 327, 300)          87027900  \n",
      "_________________________________________________________________\n",
      "conv1d_4 (Conv1D)            (None, 323, 128)          192128    \n",
      "_________________________________________________________________\n",
      "max_pooling1d_4 (MaxPooling1 (None, 64, 128)           0         \n",
      "_________________________________________________________________\n",
      "conv1d_5 (Conv1D)            (None, 60, 128)           82048     \n",
      "_________________________________________________________________\n",
      "max_pooling1d_5 (MaxPooling1 (None, 12, 128)           0         \n",
      "_________________________________________________________________\n",
      "conv1d_6 (Conv1D)            (None, 8, 128)            82048     \n",
      "_________________________________________________________________\n",
      "max_pooling1d_6 (MaxPooling1 (None, 1, 128)            0         \n",
      "_________________________________________________________________\n",
      "flatten_2 (Flatten)          (None, 128)               0         \n",
      "_________________________________________________________________\n",
      "dense_7 (Dense)              (None, 128)               16512     \n",
      "_________________________________________________________________\n",
      "dense_8 (Dense)              (None, 1)                 129       \n",
      "=================================================================\n",
      "Total params: 87,400,765\n",
      "Trainable params: 372,865\n",
      "Non-trainable params: 87,027,900\n",
      "_________________________________________________________________\n"
     ]
    }
   ],
   "source": [
    "model1 = Sequential()\n",
    "model1.add(Embedding(*embedding_matrix.shape, weights=[embedding_matrix], input_length=max_length, trainable=False))\n",
    "model1.add(Conv1D(filters=128, kernel_size=5, activation='relu'))\n",
    "model1.add(MaxPooling1D(pool_size=5))\n",
    "model1.add(Conv1D(128, 5, activation='relu'))\n",
    "model1.add(MaxPooling1D(5))\n",
    "model1.add(Conv1D(128, 5, activation='relu'))\n",
    "model1.add(MaxPooling1D(5))\n",
    "\n",
    "model1.add(Flatten())\n",
    "model1.add(Dense(units=128, activation='relu'))\n",
    "model1.add(Dense(units=1, activation='softmax'))\n",
    "model1.summary()"
   ]
  },
  {
   "cell_type": "code",
   "execution_count": 266,
   "metadata": {},
   "outputs": [],
   "source": [
    "model1.compile(optimizer='adam', loss='binary_crossentropy', metrics=['acc'])   "
   ]
  },
  {
   "cell_type": "code",
   "execution_count": 272,
   "metadata": {},
   "outputs": [
    {
     "name": "stdout",
     "output_type": "stream",
     "text": [
      "Train on 1443899 samples, validate on 360975 samples\n",
      "Epoch 1/1\n",
      "1443899/1443899 [==============================] - 340s 235us/step - loss: 14.6655 - acc: 0.0801 - val_loss: 14.6753 - val_acc: 0.0795\n",
      "_________________________________________________________________\n",
      "Layer (type)                 Output Shape              Param #   \n",
      "=================================================================\n",
      "embedding_4 (Embedding)      (None, 327, 300)          87027900  \n",
      "_________________________________________________________________\n",
      "conv1d_4 (Conv1D)            (None, 323, 128)          192128    \n",
      "_________________________________________________________________\n",
      "max_pooling1d_4 (MaxPooling1 (None, 64, 128)           0         \n",
      "_________________________________________________________________\n",
      "conv1d_5 (Conv1D)            (None, 60, 128)           82048     \n",
      "_________________________________________________________________\n",
      "max_pooling1d_5 (MaxPooling1 (None, 12, 128)           0         \n",
      "_________________________________________________________________\n",
      "conv1d_6 (Conv1D)            (None, 8, 128)            82048     \n",
      "_________________________________________________________________\n",
      "max_pooling1d_6 (MaxPooling1 (None, 1, 128)            0         \n",
      "_________________________________________________________________\n",
      "flatten_2 (Flatten)          (None, 128)               0         \n",
      "_________________________________________________________________\n",
      "dense_7 (Dense)              (None, 128)               16512     \n",
      "_________________________________________________________________\n",
      "dense_8 (Dense)              (None, 1)                 129       \n",
      "=================================================================\n",
      "Total params: 87,400,765\n",
      "Trainable params: 372,865\n",
      "Non-trainable params: 87,027,900\n",
      "_________________________________________________________________\n",
      "None\n"
     ]
    }
   ],
   "source": [
    "history1 = model1.fit(pad_partial_x_tr,\n",
    "                    partial_y_train,\n",
    "                    epochs=1,\n",
    "                    batch_size=64,\n",
    "                    validation_data=(pad_x_val, y_val),\n",
    "                    verbose=1)\n",
    "print(model1.summary())"
   ]
  },
  {
   "cell_type": "markdown",
   "metadata": {},
   "source": [
    "Since the accuracy score is too bad. We will just abandon CNN."
   ]
  },
  {
   "cell_type": "markdown",
   "metadata": {},
   "source": [
    "## Part IV RNN"
   ]
  },
  {
   "cell_type": "markdown",
   "metadata": {},
   "source": [
    "Implement many-to-one LSTM with dense layer. "
   ]
  },
  {
   "cell_type": "code",
   "execution_count": 14,
   "metadata": {},
   "outputs": [
    {
     "name": "stdout",
     "output_type": "stream",
     "text": [
      "WARNING:tensorflow:From /home/ubuntu/anaconda3/envs/tensorflow_p36/lib/python3.6/site-packages/tensorflow/python/framework/op_def_library.py:263: colocate_with (from tensorflow.python.framework.ops) is deprecated and will be removed in a future version.\n",
      "Instructions for updating:\n",
      "Colocations handled automatically by placer.\n",
      "WARNING:tensorflow:From /home/ubuntu/anaconda3/envs/tensorflow_p36/lib/python3.6/site-packages/keras/backend/tensorflow_backend.py:3445: calling dropout (from tensorflow.python.ops.nn_ops) with keep_prob is deprecated and will be removed in a future version.\n",
      "Instructions for updating:\n",
      "Please use `rate` instead of `keep_prob`. Rate should be set to `rate = 1 - keep_prob`.\n"
     ]
    }
   ],
   "source": [
    "model_r1 = Sequential()\n",
    "model_r1.add(Embedding(*embedding_matrix.shape, weights=[embedding_matrix], input_length=max_length, trainable=False))\n",
    "model_r1.add(CuDNNLSTM(64)) \n",
    "model_r1.add(Dropout(0.5))\n",
    "model_r1.add(Dense(1, activation='sigmoid'))\n",
    "\n",
    "model_r1.compile(loss='binary_crossentropy', optimizer='adam', metrics=['accuracy'])"
   ]
  },
  {
   "cell_type": "markdown",
   "metadata": {},
   "source": [
    "#### Be careful! Below code runs >30 min"
   ]
  },
  {
   "cell_type": "code",
   "execution_count": 41,
   "metadata": {},
   "outputs": [
    {
     "name": "stdout",
     "output_type": "stream",
     "text": [
      "Train on 1443899 samples, validate on 360975 samples\n",
      "Epoch 1/5\n",
      "1443899/1443899 [==============================] - 235s 162us/step - loss: 0.2826 - acc: 0.9199 - val_loss: 0.2776 - val_acc: 0.9205\n",
      "Epoch 2/5\n",
      "1443899/1443899 [==============================] - 234s 162us/step - loss: 0.2814 - acc: 0.9199 - val_loss: 0.2775 - val_acc: 0.9205\n",
      "Epoch 3/5\n",
      "1443899/1443899 [==============================] - 235s 163us/step - loss: 0.2804 - acc: 0.9199 - val_loss: 0.2776 - val_acc: 0.9205\n",
      "Epoch 4/5\n",
      "1443899/1443899 [==============================] - 235s 163us/step - loss: 0.2798 - acc: 0.9199 - val_loss: 0.2776 - val_acc: 0.9205\n",
      "Epoch 5/5\n",
      "1443899/1443899 [==============================] - 234s 162us/step - loss: 0.2795 - acc: 0.9199 - val_loss: 0.2775 - val_acc: 0.9205\n"
     ]
    }
   ],
   "source": [
    "history_r1 = model_r1.fit(pad_partial_x_tr,\n",
    "                    partial_y_train,\n",
    "                    epochs=5, \n",
    "                    batch_size=512,\n",
    "                    validation_data=(pad_x_val, y_val),\n",
    "                    verbose=1)                   "
   ]
  },
  {
   "cell_type": "code",
   "execution_count": 42,
   "metadata": {},
   "outputs": [],
   "source": [
    "def plothis(history): \n",
    "    history_dict = history.history\n",
    "    acc = history_dict['acc']\n",
    "    val_acc = history_dict['val_acc']\n",
    "    loss = history_dict['loss']\n",
    "    val_loss = history_dict['val_loss']\n",
    "\n",
    "    epochs = range(1, len(acc) + 1)\n",
    "\n",
    "    plt.plot(epochs, loss, 'r', label='Training loss')\n",
    "    plt.plot(epochs, val_loss, 'b', label='Validation loss')\n",
    "    plt.title('Training and validation loss')\n",
    "    plt.xlabel('Epochs')\n",
    "    plt.ylabel('Loss')\n",
    "    plt.legend()\n",
    "    plt.show()  \n",
    "\n",
    "    plt.plot(epochs, acc, 'r', label='Training acc')\n",
    "    plt.plot(epochs, val_acc, 'b', label='Validation acc')\n",
    "    plt.title('Training and validation accuracy')\n",
    "    plt.xlabel('Epochs')\n",
    "    plt.ylabel('Accuracy')\n",
    "    plt.legend()\n",
    "    plt.show()"
   ]
  },
  {
   "cell_type": "code",
   "execution_count": 43,
   "metadata": {},
   "outputs": [
    {
     "data": {
      "image/png": "[encoded data removed]",
      "text/plain": [
       "<Figure size 432x288 with 1 Axes>"
      ]
     },
     "metadata": {},
     "output_type": "display_data"
    },
    {
     "data": {
      "image/png": "[encoded data removed]",
      "text/plain": [
       "<Figure size 432x288 with 1 Axes>"
      ]
     },
     "metadata": {},
     "output_type": "display_data"
    }
   ],
   "source": [
    "plothis(history_r1)"
   ]
  },
  {
   "cell_type": "markdown",
   "metadata": {},
   "source": [
    "Here, the validation loss is close but slightly lower than training loss. It could be due to overfitting, larger amount of data in training sample where errors are calculated; \n",
    "It has also been suggested that dropout layer tends be activated during the training, but deactivated during validation. See ref: https://stats.stackexchange.com/questions/187335/validation-error-less-than-training-error"
   ]
  },
  {
   "cell_type": "markdown",
   "metadata": {},
   "source": [
    "## Part V Define Metrics"
   ]
  },
  {
   "cell_type": "markdown",
   "metadata": {},
   "source": [
    "Before tuning, we need to look at the metrics with which tuning results will be compared since it is not just important to classify the the text, but also to minimize the bias which is calculated through following defined metric function."
   ]
  },
  {
   "cell_type": "markdown",
   "metadata": {},
   "source": [
    "<img src=\"metric.png\">"
   ]
  },
  {
   "cell_type": "code",
   "execution_count": 14,
   "metadata": {},
   "outputs": [],
   "source": [
    "class metric: \n",
    "    def __init__(self,y_true, y_pred,y_identity):\n",
    "        self.y_true=y_true\n",
    "        self.y_pred=y_pred\n",
    "        self.y_identity=y_identity\n",
    "        self.N=y_identity.shape[1]\n",
    "        self.p=-5\n",
    "    @staticmethod\n",
    "    def auc(y_true, y_prob):\n",
    "        return roc_auc_score(y_true, y_prob)\n",
    "\n",
    "    def power_mean(self,array):\n",
    "        total = sum(np.power(array,self.p))/len(array)  \n",
    "        return np.power(total, 1/ self.p)\n",
    "    def overall_auc(self): \n",
    "        return self.auc(self.y_true,self.y_pred)       \n",
    "    \n",
    "    def mp_sub(self):\n",
    "        sub=[]\n",
    "        for i in range(self.N):\n",
    "            sub_y_true=self.y_true.values[self.y_identity[:,i]==1]\n",
    "            sub_y_pred=self.y_pred[self.y_identity[:,i]==1]   \n",
    "            sub_auc_i=self.auc(sub_y_true,sub_y_pred)\n",
    "            sub.append(sub_auc_i)\n",
    "        self.mp_sub=self.power_mean(sub)\n",
    "        return self.mp_sub\n",
    "    \n",
    "    def mp_bpsn(self): \n",
    "        sub=[]\n",
    "        for i in range(self.N):\n",
    "            sub_y_true=self.y_true.values[self.y_identity[:,i]+self.y_true==1]\n",
    "            sub_y_pred=self.y_pred[self.y_identity[:,i]+self.y_true==1]   \n",
    "            sub_auc_i=self.auc(sub_y_true,sub_y_pred)\n",
    "            \n",
    "            sub.append(sub_auc_i) \n",
    "    \n",
    "        return self.power_mean(sub)\n",
    "    \n",
    "    def mp_bnsp(self): \n",
    "        sub=[]\n",
    "        for i in range(self.N):\n",
    "            sub_y_true=self.y_true.values[(self.y_identity[:,i]+self.y_true==2)|(self.y_identity[:,i]+self.y_true==0)]\n",
    "            sub_y_pred=self.y_pred[(self.y_identity[:,i]+self.y_true==2)|(self.y_identity[:,i]+self.y_true==0)]\n",
    "            sub_auc_i=self.auc(sub_y_true,sub_y_pred)\n",
    "            sub.append(sub_auc_i)\n",
    "        return self.power_mean(sub)  \n"
   ]
  },
  {
   "cell_type": "code",
   "execution_count": 35,
   "metadata": {},
   "outputs": [],
   "source": [
    "def get_metric_outcome(y_val, y_prob,y_identity):\n",
    "    evaluator = metric(y_val, y_prob,y_identity)\n",
    "        \n",
    "    overall_auc=evaluator.overall_auc()\n",
    "        \n",
    "    sub_value=evaluator.mp_sub()\n",
    "    bpsn=evaluator.mp_bpsn()\n",
    "    bnsp=evaluator.mp_bnsp()\n",
    "       \n",
    "    avg_auc=0.25*overall_auc+0.25*sub_value+0.25*bpsn+0.25*bnsp\n",
    "    result=[overall_auc,sub_value,bpsn,bnsp,avg_auc]    \n",
    "    return result"
   ]
  },
  {
   "cell_type": "code",
   "execution_count": 16,
   "metadata": {},
   "outputs": [],
   "source": [
    "def plot_performance(model,result):\n",
    "    x=['auc','mp_sub','mp_bpsn','mp_bnsp','avg_auc']\n",
    "    ax = sns.stripplot(x,result)\n",
    "    plt.ylabel('Accuracy')\n",
    "    plt.legend()         \n",
    "    plt.title('{} model performance'.format(model))"
   ]
  },
  {
   "cell_type": "markdown",
   "metadata": {},
   "source": [
    "## Part VI Light-GBM vs RNN"
   ]
  },
  {
   "cell_type": "markdown",
   "metadata": {},
   "source": [
    "#### Below is for lgb:"
   ]
  },
  {
   "cell_type": "code",
   "execution_count": 358,
   "metadata": {},
   "outputs": [],
   "source": [
    "def fit_lgb(model_b,x_train,y_train,x_val):\n",
    "    model_b.fit(x_train,y_train)\n",
    "    y_pred=model_b.predict_proba(x_val,verbose=0)\n",
    "    return y_pred[:, 1]"
   ]
  },
  {
   "cell_type": "code",
   "execution_count": 359,
   "metadata": {},
   "outputs": [],
   "source": [
    "y_pred=fit_lgb(model_b,X_tr_tf,partial_y_train,x_val_tf)"
   ]
  },
  {
   "cell_type": "code",
   "execution_count": 360,
   "metadata": {},
   "outputs": [],
   "source": [
    "result=get_metric_outcome(y_val,y_pred,y_identity_te)"
   ]
  },
  {
   "cell_type": "code",
   "execution_count": 363,
   "metadata": {},
   "outputs": [
    {
     "name": "stderr",
     "output_type": "stream",
     "text": [
      "No handles with labels found to put in legend.\n"
     ]
    },
    {
     "data": {
      "image/png": "[encoded data removed]",
      "text/plain": [
       "<Figure size 432x288 with 1 Axes>"
      ]
     },
     "metadata": {},
     "output_type": "display_data"
    }
   ],
   "source": [
    "plot_performance('lightgbm',result)"
   ]
  },
  {
   "cell_type": "markdown",
   "metadata": {},
   "source": [
    "#### Be careful! Below cell runs >5 mins!"
   ]
  },
  {
   "cell_type": "markdown",
   "metadata": {},
   "source": [
    "Check performance for RNN"
   ]
  },
  {
   "cell_type": "code",
   "execution_count": 49,
   "metadata": {},
   "outputs": [
    {
     "name": "stdout",
     "output_type": "stream",
     "text": [
      "Epoch 1/1\n",
      "1443899/1443899 [==============================] - 216s 150us/step - loss: 0.2844 - acc: 0.9199\n"
     ]
    },
    {
     "data": {
      "text/plain": [
       "<keras.callbacks.History at 0x7f2ff6228d68>"
      ]
     },
     "execution_count": 49,
     "metadata": {},
     "output_type": "execute_result"
    }
   ],
   "source": [
    "model_r1.fit(pad_partial_x_tr,\n",
    "                    partial_y_train,\n",
    "                    epochs=1, \n",
    "                    batch_size=512,\n",
    "                    verbose=1)"
   ]
  },
  {
   "cell_type": "code",
   "execution_count": 18,
   "metadata": {},
   "outputs": [],
   "source": [
    "def model_performance_rnn(y_pred,y_val,y_identity_te,name):\n",
    "    result=get_metric_outcome(y_val,y_pred.ravel(),y_identity_te)\n",
    "    plot_performance (name,result)"
   ]
  },
  {
   "cell_type": "code",
   "execution_count": 59,
   "metadata": {},
   "outputs": [
    {
     "name": "stdout",
     "output_type": "stream",
     "text": [
      "360975/360975 [==============================] - 90s 249us/step\n"
     ]
    }
   ],
   "source": [
    "y_pred_r1=model_r1.predict(pad_x_val,verbose=1)"
   ]
  },
  {
   "cell_type": "code",
   "execution_count": 60,
   "metadata": {},
   "outputs": [
    {
     "name": "stderr",
     "output_type": "stream",
     "text": [
      "No handles with labels found to put in legend.\n"
     ]
    },
    {
     "data": {
      "image/png": "[encoded data removed]",
      "text/plain": [
       "<Figure size 432x288 with 1 Axes>"
      ]
     },
     "metadata": {},
     "output_type": "display_data"
    }
   ],
   "source": [
    "model_performance_rnn(y_pred_r1,y_val,y_identity_te,'RNN model id: model_r1')"
   ]
  },
  {
   "cell_type": "markdown",
   "metadata": {},
   "source": [
    "## Part VII RNN Model tuning "
   ]
  },
  {
   "cell_type": "markdown",
   "metadata": {},
   "source": [
    "### Model 1. Slight modification on vanilla RNN:\n",
    "#### a. Change to mixed embedding and add other tabular features\n",
    "#### b. Use bidirectional RNN"
   ]
  },
  {
   "cell_type": "code",
   "execution_count": 20,
   "metadata": {},
   "outputs": [],
   "source": [
    "pad_tr_meta,pad_te_meta, embedding_matrix_meta,max_length_meta=embed(x_tr_c,x_te_c,saved_meta)"
   ]
  },
  {
   "cell_type": "code",
   "execution_count": 21,
   "metadata": {},
   "outputs": [],
   "source": [
    "metapad_partial_x_tr=pad_tr_meta[train_indices]\n",
    "metapad_x_val=pad_tr_meta[test_indices]"
   ]
  },
  {
   "cell_type": "code",
   "execution_count": 22,
   "metadata": {},
   "outputs": [],
   "source": [
    "additional_data_tr=tr.iloc[train_indices,:][['polarity','subjectivity','unique_word_count','total_word_count']]\n",
    "additional_data_val=tr.iloc[test_indices,:][['polarity','subjectivity','unique_word_count','total_word_count']]\n",
    "#number of engineered features \n",
    "engineered_length=4"
   ]
  },
  {
   "cell_type": "code",
   "execution_count": 23,
   "metadata": {},
   "outputs": [
    {
     "name": "stderr",
     "output_type": "stream",
     "text": [
      "/home/ubuntu/anaconda3/envs/tensorflow_p36/lib/python3.6/site-packages/sklearn/preprocessing/data.py:645: DataConversionWarning: Data with input dtype int64, float64 were all converted to float64 by StandardScaler.\n",
      "  return self.partial_fit(X, y)\n",
      "/home/ubuntu/anaconda3/envs/tensorflow_p36/lib/python3.6/site-packages/sklearn/base.py:464: DataConversionWarning: Data with input dtype int64, float64 were all converted to float64 by StandardScaler.\n",
      "  return self.fit(X, **fit_params).transform(X)\n",
      "/home/ubuntu/anaconda3/envs/tensorflow_p36/lib/python3.6/site-packages/sklearn/preprocessing/data.py:645: DataConversionWarning: Data with input dtype int64, float64 were all converted to float64 by StandardScaler.\n",
      "  return self.partial_fit(X, y)\n",
      "/home/ubuntu/anaconda3/envs/tensorflow_p36/lib/python3.6/site-packages/sklearn/base.py:464: DataConversionWarning: Data with input dtype int64, float64 were all converted to float64 by StandardScaler.\n",
      "  return self.fit(X, **fit_params).transform(X)\n"
     ]
    }
   ],
   "source": [
    "#normalize above features \n",
    "scaler = StandardScaler()\n",
    "additional_data_tr=scaler.fit_transform(additional_data_tr)\n",
    "additional_data_val=scaler.fit_transform(additional_data_val)"
   ]
  },
  {
   "cell_type": "code",
   "execution_count": 47,
   "metadata": {},
   "outputs": [],
   "source": [
    "input1 = Input(shape=(max_length_meta,))\n",
    "input2 = Input(shape=(engineered_length,))\n",
    "\n",
    "x=Embedding(*embedding_matrix_meta.shape, weights=[embedding_matrix_meta], trainable=False)(input1)\n",
    "x = Bidirectional(CuDNNLSTM(64, return_sequences=True))(x)\n",
    "x=Dense(4, activation='sigmoid')(x)\n",
    "x = SpatialDropout1D(0.25)(x)\n",
    "x=Flatten()(x)\n",
    "x = concatenate([x, input2])\n",
    "output=Dense(1, activation='sigmoid', name = 'main_output')(x)\n",
    "model_r2 = Model(inputs=[input1, input2], outputs=output)\n",
    "model_r2.compile(\n",
    "        loss='binary_crossentropy',\n",
    "        optimizer=Adam(clipnorm=0.1),\n",
    "        metrics=['accuracy'])"
   ]
  },
  {
   "cell_type": "code",
   "execution_count": 45,
   "metadata": {},
   "outputs": [
    {
     "name": "stdout",
     "output_type": "stream",
     "text": [
      "__________________________________________________________________________________________________\n",
      "Layer (type)                    Output Shape         Param #     Connected to                     \n",
      "==================================================================================================\n",
      "input_16 (InputLayer)           (None, 327)          0                                            \n",
      "__________________________________________________________________________________________________\n",
      "embedding_9 (Embedding)         (None, 327, 300)     87027900    input_16[0][0]                   \n",
      "__________________________________________________________________________________________________\n",
      "bidirectional_8 (Bidirectional) (None, 327, 128)     187392      embedding_9[0][0]                \n",
      "__________________________________________________________________________________________________\n",
      "dense_12 (Dense)                (None, 327, 4)       516         bidirectional_8[0][0]            \n",
      "__________________________________________________________________________________________________\n",
      "spatial_dropout1d_8 (SpatialDro (None, 327, 4)       0           dense_12[0][0]                   \n",
      "__________________________________________________________________________________________________\n",
      "flatten_3 (Flatten)             (None, 1308)         0           spatial_dropout1d_8[0][0]        \n",
      "__________________________________________________________________________________________________\n",
      "input_17 (InputLayer)           (None, 4)            0                                            \n",
      "__________________________________________________________________________________________________\n",
      "concatenate_8 (Concatenate)     (None, 1312)         0           flatten_3[0][0]                  \n",
      "                                                                 input_17[0][0]                   \n",
      "__________________________________________________________________________________________________\n",
      "main_output (Dense)             (None, 1)            1313        concatenate_8[0][0]              \n",
      "==================================================================================================\n",
      "Total params: 87,217,121\n",
      "Trainable params: 189,221\n",
      "Non-trainable params: 87,027,900\n",
      "__________________________________________________________________________________________________\n"
     ]
    }
   ],
   "source": [
    "model_r2.summary()"
   ]
  },
  {
   "cell_type": "markdown",
   "metadata": {},
   "source": [
    "#### Below cell runs >10 mins!"
   ]
  },
  {
   "cell_type": "code",
   "execution_count": 48,
   "metadata": {},
   "outputs": [
    {
     "name": "stdout",
     "output_type": "stream",
     "text": [
      "Epoch 1/1\n",
      "1443899/1443899 [==============================] - 465s 322us/step - loss: 0.1561 - acc: 0.9424\n"
     ]
    },
    {
     "data": {
      "text/plain": [
       "<keras.callbacks.History at 0x7fa556ed5c18>"
      ]
     },
     "execution_count": 48,
     "metadata": {},
     "output_type": "execute_result"
    }
   ],
   "source": [
    "model_r2.fit([metapad_partial_x_tr,additional_data_tr],partial_y_train,epochs=1,batch_size=512,verbose=1)      "
   ]
  },
  {
   "cell_type": "code",
   "execution_count": 49,
   "metadata": {},
   "outputs": [
    {
     "name": "stdout",
     "output_type": "stream",
     "text": [
      "360975/360975 [==============================] - 187s 519us/step\n"
     ]
    }
   ],
   "source": [
    "y_pred_r2=model_r2.predict([metapad_x_val,additional_data_val],verbose=1)"
   ]
  },
  {
   "cell_type": "code",
   "execution_count": 50,
   "metadata": {},
   "outputs": [
    {
     "name": "stderr",
     "output_type": "stream",
     "text": [
      "No handles with labels found to put in legend.\n"
     ]
    },
    {
     "data": {
      "image/png": "[encoded data removed]",
      "text/plain": [
       "<Figure size 432x288 with 1 Axes>"
      ]
     },
     "metadata": {},
     "output_type": "display_data"
    }
   ],
   "source": [
    "model_performance_rnn(y_pred_r2,y_val,y_identity_te,'RNN model id: model_r2')"
   ]
  },
  {
   "cell_type": "markdown",
   "metadata": {},
   "source": [
    "### Model 2. Complex architecture 1\n",
    "This is inspired by following discusssion \n",
    "https://mlwhiz.com/blog/2019/02/19/siver_medal_kaggle_learnings/"
   ]
  },
  {
   "cell_type": "code",
   "execution_count": 24,
   "metadata": {},
   "outputs": [
    {
     "name": "stdout",
     "output_type": "stream",
     "text": [
      "WARNING:tensorflow:From /home/ubuntu/anaconda3/envs/tensorflow_p36/lib/python3.6/site-packages/tensorflow/python/framework/op_def_library.py:263: colocate_with (from tensorflow.python.framework.ops) is deprecated and will be removed in a future version.\n",
      "Instructions for updating:\n",
      "Colocations handled automatically by placer.\n",
      "WARNING:tensorflow:From /home/ubuntu/anaconda3/envs/tensorflow_p36/lib/python3.6/site-packages/keras/backend/tensorflow_backend.py:3445: calling dropout (from tensorflow.python.ops.nn_ops) with keep_prob is deprecated and will be removed in a future version.\n",
      "Instructions for updating:\n",
      "Please use `rate` instead of `keep_prob`. Rate should be set to `rate = 1 - keep_prob`.\n"
     ]
    }
   ],
   "source": [
    "input1= Input(shape=(max_length_meta,))\n",
    "input2= Input(shape=(engineered_length,))\n",
    "\n",
    "x = Embedding(*embedding_matrix_meta.shape, weights=[embedding_matrix_meta], trainable=False)(input1)\n",
    "x = SpatialDropout1D(0.25)(x)\n",
    "x = Bidirectional(CuDNNLSTM(128, return_sequences=True))(x) #128\n",
    "x=Conv1D(filters=64, kernel_size=5, activation='relu')(x) #64\n",
    "\n",
    "#added engineered feature as dense layer and concat with 1d global max pooling \n",
    "hidden = concatenate([\n",
    "        GlobalMaxPooling1D()(x),\n",
    "        Dense(64, activation='sigmoid')(input2)\n",
    "    ])\n",
    "x=Dense(128, activation='sigmoid')(hidden) #128\n",
    "#added dropout layer \n",
    "x = Dropout(0.25)(x)\n",
    "\n",
    "#added batch normalization layer\n",
    "x=BatchNormalization()(x)\n",
    "output=Dense(1, activation='sigmoid')(x)\n",
    "\n",
    "model_r3 = Model(inputs=[input1, input2], outputs=output)\n",
    "model_r3.compile(\n",
    "        loss='binary_crossentropy',\n",
    "        optimizer=Adam(clipnorm=0.1),\n",
    "        metrics=['accuracy'])"
   ]
  },
  {
   "cell_type": "code",
   "execution_count": 24,
   "metadata": {},
   "outputs": [
    {
     "name": "stdout",
     "output_type": "stream",
     "text": [
      "__________________________________________________________________________________________________\n",
      "Layer (type)                    Output Shape         Param #     Connected to                     \n",
      "==================================================================================================\n",
      "input_1 (InputLayer)            (None, 327)          0                                            \n",
      "__________________________________________________________________________________________________\n",
      "embedding_2 (Embedding)         (None, 327, 300)     87027900    input_1[0][0]                    \n",
      "__________________________________________________________________________________________________\n",
      "spatial_dropout1d_1 (SpatialDro (None, 327, 300)     0           embedding_2[0][0]                \n",
      "__________________________________________________________________________________________________\n",
      "bidirectional_1 (Bidirectional) (None, 327, 256)     440320      spatial_dropout1d_1[0][0]        \n",
      "__________________________________________________________________________________________________\n",
      "conv1d_1 (Conv1D)               (None, 323, 64)      81984       bidirectional_1[0][0]            \n",
      "__________________________________________________________________________________________________\n",
      "input_2 (InputLayer)            (None, 4)            0                                            \n",
      "__________________________________________________________________________________________________\n",
      "global_max_pooling1d_1 (GlobalM (None, 64)           0           conv1d_1[0][0]                   \n",
      "__________________________________________________________________________________________________\n",
      "dense_2 (Dense)                 (None, 64)           320         input_2[0][0]                    \n",
      "__________________________________________________________________________________________________\n",
      "concatenate_1 (Concatenate)     (None, 128)          0           global_max_pooling1d_1[0][0]     \n",
      "                                                                 dense_2[0][0]                    \n",
      "__________________________________________________________________________________________________\n",
      "dense_3 (Dense)                 (None, 128)          16512       concatenate_1[0][0]              \n",
      "__________________________________________________________________________________________________\n",
      "dropout_2 (Dropout)             (None, 128)          0           dense_3[0][0]                    \n",
      "__________________________________________________________________________________________________\n",
      "batch_normalization_1 (BatchNor (None, 128)          512         dropout_2[0][0]                  \n",
      "__________________________________________________________________________________________________\n",
      "dense_4 (Dense)                 (None, 1)            129         batch_normalization_1[0][0]      \n",
      "==================================================================================================\n",
      "Total params: 87,567,677\n",
      "Trainable params: 539,521\n",
      "Non-trainable params: 87,028,156\n",
      "__________________________________________________________________________________________________\n"
     ]
    }
   ],
   "source": [
    "model_r3.summary()"
   ]
  },
  {
   "cell_type": "markdown",
   "metadata": {},
   "source": [
    "#### Below cell runs >10 mins!"
   ]
  },
  {
   "cell_type": "code",
   "execution_count": 25,
   "metadata": {},
   "outputs": [
    {
     "name": "stdout",
     "output_type": "stream",
     "text": [
      "WARNING:tensorflow:From /home/ubuntu/anaconda3/envs/tensorflow_p36/lib/python3.6/site-packages/tensorflow/python/ops/math_ops.py:3066: to_int32 (from tensorflow.python.ops.math_ops) is deprecated and will be removed in a future version.\n",
      "Instructions for updating:\n",
      "Use tf.cast instead.\n",
      "WARNING:tensorflow:From /home/ubuntu/anaconda3/envs/tensorflow_p36/lib/python3.6/site-packages/tensorflow/python/ops/math_grad.py:102: div (from tensorflow.python.ops.math_ops) is deprecated and will be removed in a future version.\n",
      "Instructions for updating:\n",
      "Deprecated in favor of operator or tf.math.divide.\n",
      "Epoch 1/1\n",
      "1443899/1443899 [==============================] - 924s 640us/step - loss: 0.1509 - acc: 0.9405\n"
     ]
    },
    {
     "data": {
      "text/plain": [
       "<keras.callbacks.History at 0x7ff0a54a9a90>"
      ]
     },
     "execution_count": 25,
     "metadata": {},
     "output_type": "execute_result"
    }
   ],
   "source": [
    "model_r3.fit([metapad_partial_x_tr,additional_data_tr],partial_y_train,epochs=1,batch_size=512,verbose=1)   "
   ]
  },
  {
   "cell_type": "code",
   "execution_count": 26,
   "metadata": {},
   "outputs": [
    {
     "name": "stdout",
     "output_type": "stream",
     "text": [
      "360975/360975 [==============================] - 212s 587us/step\n"
     ]
    }
   ],
   "source": [
    "y_pred_r3=model_r3.predict([metapad_x_val,additional_data_val],verbose=1)"
   ]
  },
  {
   "cell_type": "code",
   "execution_count": 27,
   "metadata": {},
   "outputs": [
    {
     "name": "stderr",
     "output_type": "stream",
     "text": [
      "No handles with labels found to put in legend.\n"
     ]
    },
    {
     "data": {
      "image/png": "[encoded data removed]",
      "text/plain": [
       "<Figure size 432x288 with 1 Axes>"
      ]
     },
     "metadata": {},
     "output_type": "display_data"
    }
   ],
   "source": [
    "model_performance_rnn(y_pred_r3,y_val,y_identity_te,'RNN model id: model_r3')"
   ]
  },
  {
   "cell_type": "markdown",
   "metadata": {},
   "source": [
    "### Model 3. Complex architecture 2\n",
    "This is inspired by the following kernel:https://www.kaggle.com/thousandvoices/simple-lstm"
   ]
  },
  {
   "cell_type": "code",
   "execution_count": 32,
   "metadata": {},
   "outputs": [],
   "source": [
    "input1= Input(shape=(max_length_meta,))\n",
    "\n",
    "x = Embedding(*embedding_matrix_meta.shape, weights=[embedding_matrix_meta], trainable=False)(input1)\n",
    "x = Bidirectional(CuDNNLSTM(128, return_sequences=True))(x)\n",
    "x = Bidirectional(CuDNNLSTM(128, return_sequences=True))(x)\n",
    "\n",
    "hidden = concatenate([\n",
    "        GlobalMaxPooling1D()(x),\n",
    "        GlobalAveragePooling1D()(x)\n",
    "    ])\n",
    "hidden = add([hidden, Dense(512, activation='tanh')(hidden)])\n",
    "hidden = add([hidden, Dense(512, activation='relu')(hidden)])\n",
    "result = Dense(1, activation='sigmoid', name = 'main_output')(hidden)\n",
    "\n",
    "model_r4 = Model(inputs=input1, outputs=result)\n",
    "\n",
    "model_r4.compile(\n",
    "        loss='binary_crossentropy',\n",
    "        optimizer=Adam(clipnorm=0.1),\n",
    "        metrics=['accuracy'])"
   ]
  },
  {
   "cell_type": "code",
   "execution_count": 33,
   "metadata": {
    "scrolled": true
   },
   "outputs": [
    {
     "name": "stdout",
     "output_type": "stream",
     "text": [
      "__________________________________________________________________________________________________\n",
      "Layer (type)                    Output Shape         Param #     Connected to                     \n",
      "==================================================================================================\n",
      "input_6 (InputLayer)            (None, 327)          0                                            \n",
      "__________________________________________________________________________________________________\n",
      "embedding_5 (Embedding)         (None, 327, 300)     87027900    input_6[0][0]                    \n",
      "__________________________________________________________________________________________________\n",
      "bidirectional_6 (Bidirectional) (None, 327, 256)     440320      embedding_5[0][0]                \n",
      "__________________________________________________________________________________________________\n",
      "bidirectional_7 (Bidirectional) (None, 327, 256)     395264      bidirectional_6[0][0]            \n",
      "__________________________________________________________________________________________________\n",
      "global_max_pooling1d_4 (GlobalM (None, 256)          0           bidirectional_7[0][0]            \n",
      "__________________________________________________________________________________________________\n",
      "global_average_pooling1d_3 (Glo (None, 256)          0           bidirectional_7[0][0]            \n",
      "__________________________________________________________________________________________________\n",
      "concatenate_4 (Concatenate)     (None, 512)          0           global_max_pooling1d_4[0][0]     \n",
      "                                                                 global_average_pooling1d_3[0][0] \n",
      "__________________________________________________________________________________________________\n",
      "dense_9 (Dense)                 (None, 512)          262656      concatenate_4[0][0]              \n",
      "__________________________________________________________________________________________________\n",
      "add_5 (Add)                     (None, 512)          0           concatenate_4[0][0]              \n",
      "                                                                 dense_9[0][0]                    \n",
      "__________________________________________________________________________________________________\n",
      "dense_10 (Dense)                (None, 512)          262656      add_5[0][0]                      \n",
      "__________________________________________________________________________________________________\n",
      "add_6 (Add)                     (None, 512)          0           add_5[0][0]                      \n",
      "                                                                 dense_10[0][0]                   \n",
      "__________________________________________________________________________________________________\n",
      "main_output (Dense)             (None, 1)            513         add_6[0][0]                      \n",
      "==================================================================================================\n",
      "Total params: 88,389,309\n",
      "Trainable params: 1,361,409\n",
      "Non-trainable params: 87,027,900\n",
      "__________________________________________________________________________________________________\n"
     ]
    }
   ],
   "source": [
    "model_r4.summary()"
   ]
  },
  {
   "cell_type": "code",
   "execution_count": 35,
   "metadata": {},
   "outputs": [
    {
     "name": "stdout",
     "output_type": "stream",
     "text": [
      "start\n",
      "Epoch 1/1\n",
      "1443899/1443899 [==============================] - 1562s 1ms/step - loss: 0.1314 - acc: 0.9485\n",
      "1563.7611012458801\n"
     ]
    }
   ],
   "source": [
    "start = time.time()\n",
    "print(\"start\")\n",
    "model_r4.fit(metapad_partial_x_tr,partial_y_train,epochs=1,batch_size=512,verbose=1)  \n",
    "end = time.time()\n",
    "print(end - start)"
   ]
  },
  {
   "cell_type": "code",
   "execution_count": 37,
   "metadata": {},
   "outputs": [
    {
     "name": "stdout",
     "output_type": "stream",
     "text": [
      "26.06268502076467\n"
     ]
    }
   ],
   "source": [
    "print((end - start)/60)"
   ]
  },
  {
   "cell_type": "code",
   "execution_count": 38,
   "metadata": {},
   "outputs": [
    {
     "name": "stdout",
     "output_type": "stream",
     "text": [
      "360975/360975 [==============================] - 426s 1ms/step\n"
     ]
    }
   ],
   "source": [
    "y_pred_r4=model_r4.predict(metapad_x_val,verbose=1)"
   ]
  },
  {
   "cell_type": "code",
   "execution_count": 39,
   "metadata": {
    "scrolled": false
   },
   "outputs": [
    {
     "name": "stderr",
     "output_type": "stream",
     "text": [
      "No handles with labels found to put in legend.\n"
     ]
    },
    {
     "data": {
      "image/png": "[encoded data removed]",
      "text/plain": [
       "<Figure size 432x288 with 1 Axes>"
      ]
     },
     "metadata": {},
     "output_type": "display_data"
    }
   ],
   "source": [
    "model_performance_rnn(y_pred_r4,y_val,y_identity_te,'RNN model id: model_r4')"
   ]
  },
  {
   "cell_type": "markdown",
   "metadata": {},
   "source": [
    "#### This architecture iterally took 26 mins to train, but not significantly improving the scores."
   ]
  },
  {
   "cell_type": "markdown",
   "metadata": {},
   "source": [
    "#### Based on above, I decided to choose model_r3"
   ]
  },
  {
   "cell_type": "markdown",
   "metadata": {},
   "source": [
    "<img src=\"finalmodel.png\">"
   ]
  },
  {
   "cell_type": "markdown",
   "metadata": {},
   "source": [
    "#### Below is to predict test set, which will be used for submission to Kaggle competition."
   ]
  },
  {
   "cell_type": "code",
   "execution_count": 40,
   "metadata": {},
   "outputs": [],
   "source": [
    "additional_data_te=te[['polarity','subjectivity','unique_word_count','total_word_count']]"
   ]
  },
  {
   "cell_type": "code",
   "execution_count": 41,
   "metadata": {},
   "outputs": [
    {
     "name": "stdout",
     "output_type": "stream",
     "text": [
      "97320/97320 [==============================] - 58s 596us/step\n"
     ]
    }
   ],
   "source": [
    "y_pred_r3_for_test=model_r3.predict([pad_te_meta,additional_data_te],verbose=1)    "
   ]
  },
  {
   "cell_type": "code",
   "execution_count": 53,
   "metadata": {},
   "outputs": [],
   "source": [
    "predictions=(y_pred_r3_for_test>0.5)*1"
   ]
  },
  {
   "cell_type": "code",
   "execution_count": 52,
   "metadata": {},
   "outputs": [],
   "source": [
    "submission = pd.DataFrame.from_dict({\n",
    "    'id': te['id'],\n",
    "    'prediction': predictions.ravel\n",
    "})\n",
    "submission.to_csv('submission.csv', index=False)"
   ]
  }
 ],
 "metadata": {
  "kernelspec": {
   "display_name": "Python 3",
   "language": "python",
   "name": "python3"
  },
  "language_info": {
   "codemirror_mode": {
    "name": "ipython",
    "version": 3
   },
   "file_extension": ".py",
   "mimetype": "text/x-python",
   "name": "python",
   "nbconvert_exporter": "python",
   "pygments_lexer": "ipython3",
   "version": "3.6.7"
  }
 },
 "nbformat": 4,
 "nbformat_minor": 2
}
